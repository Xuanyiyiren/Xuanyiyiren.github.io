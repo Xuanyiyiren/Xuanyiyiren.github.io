{
 "cells": [
  {
   "cell_type": "markdown",
   "metadata": {},
   "source": [
    "# Convert the Code into Compliance with MathJax\n",
    "\n",
    "Because Mathjax asked each pair of `$$` have a empty line before and after, which is needless in Typora, the code cannot be displayed well when a `.md` file is edited by Typora.\n",
    "\n",
    "Here is some python code to add those empty lines automatically."
   ]
  },
  {
   "cell_type": "code",
   "execution_count": 1,
   "metadata": {},
   "outputs": [],
   "source": [
    "import os\n",
    "from copy import deepcopy"
   ]
  },
  {
   "cell_type": "code",
   "execution_count": 2,
   "metadata": {},
   "outputs": [
    {
     "name": "stdout",
     "output_type": "stream",
     "text": [
      "you are now at c:\\Users\\admin\\Documents\\GitHub\\xuanyiyiren.github.io\\_posts\n",
      "There are following .md files in you current directory:\n"
     ]
    },
    {
     "data": {
      "text/plain": [
       "['2023-08-19-Markdown 入门.md',\n",
       " '2024-01-16-lazyman 手开根号.md',\n",
       " '2024-01-28-Minecraft岩浆怪shi莱姆农场.md',\n",
       " '2024-01-30-Academic Network Acceleration.md',\n",
       " '2024-02-15-Coding with android for foolish.md',\n",
       " '2024-03-10-The Integral in Feynman Propogator.md',\n",
       " '2024-03-11-Gaussian Integral N-dimensional.md',\n",
       " '2024-03-29-Completeness-By-Dirac-Notion.md',\n",
       " '2024-03-30-SU2representation.md',\n",
       " '2024-04-03-Linear Regression.md']"
      ]
     },
     "metadata": {},
     "output_type": "display_data"
    }
   ],
   "source": [
    "# List all your files in you current_directory\n",
    "current_directory = os.getcwd()\n",
    "print(f\"you are now at {current_directory}\")\n",
    "files = os.listdir(current_directory)\n",
    "print('There are following .md files in you current directory:')\n",
    "# for file in files:\n",
    "#     print(f'    {file}')\n",
    "mdfiles = []\n",
    "for file in files:\n",
    "    _,extension= os.path.splitext(file)\n",
    "    if extension=='.md':\n",
    "        mdfiles.append(file)\n",
    "display(mdfiles)"
   ]
  },
  {
   "cell_type": "code",
   "execution_count": 3,
   "metadata": {},
   "outputs": [],
   "source": [
    "import shutil\n",
    "def backup(files,path='../_backups/'):\n",
    "    os.makedirs(path,exist_ok=True)\n",
    "    for file in files:\n",
    "        shutil.copy(file,path+file)\n",
    "backup(mdfiles)"
   ]
  },
  {
   "cell_type": "code",
   "execution_count": 4,
   "metadata": {},
   "outputs": [],
   "source": [
    "def convertor_add_epmty_line(filename,outputname=None):\n",
    "    print('Converting '+filename)\n",
    "    with open(filename,'r') as f:\n",
    "        linelist=f.readlines()\n",
    "\n",
    "    state = 1 # state 为1表示当前$$作为前括号，-1表示作为后括号\n",
    "    adding = []\n",
    "    for i,v in enumerate(linelist):\n",
    "        if v == '$$\\n':\n",
    "            # print(i,state)\n",
    "            if i!=0 and i!=len(linelist)-1 and linelist[i-state]!='\\n':\n",
    "                # print(state)\n",
    "                # print(linelist[i-state],end='')\n",
    "                # add.append((i,state))\n",
    "                if state == 1:\n",
    "                    adding.append(i)\n",
    "                elif state == -1:\n",
    "                    adding.append(i+1)\n",
    "            state*=-1\n",
    "    print('adding lines are:',adding)\n",
    "    for i in adding[::-1]:\n",
    "        linelist.insert(i,'\\n')\n",
    "\n",
    "# for $$...$$ in > ...\n",
    "    state = 1 # state 为1表示当前$$作为前括号，-1表示作为后括号\n",
    "    adding = []\n",
    "    for i,v in enumerate(linelist):\n",
    "        if v == '> $$\\n':\n",
    "            # print(i,state)\n",
    "            if i!=0 and i!=len(linelist)-1 and linelist[i-state]!='> \\n' or '\\n':\n",
    "                # print(state)\n",
    "                # print(linelist[i-state],end='')\n",
    "                # add.append((i,state))\n",
    "                if state == 1:\n",
    "                    adding.append(i)\n",
    "                elif state == -1:\n",
    "                    adding.append(i+1)\n",
    "            state*=-1\n",
    "    print('adding quoted lines are:',adding)\n",
    "    for i in adding[::-1]:\n",
    "        linelist.insert(i,'> \\n')\n",
    "    \n",
    "    content_new = ''.join(linelist)\n",
    "    if outputname==None:\n",
    "        purename,extension= os.path.splitext(filename)\n",
    "        with open(purename+'_newline_added'+extension, 'w') as file:\n",
    "            file.write(content_new)\n",
    "    else:\n",
    "        with open(outputname, 'w') as file:\n",
    "            file.write(content_new)\n",
    "    print('Converted '+filename)\n",
    "    return content_new"
   ]
  },
  {
   "cell_type": "code",
   "execution_count": 5,
   "metadata": {},
   "outputs": [
    {
     "name": "stdout",
     "output_type": "stream",
     "text": [
      "Converting 2023-08-19-Markdown 入门.md\n",
      "adding lines are: []\n",
      "adding quoted lines are: []\n",
      "Converted 2023-08-19-Markdown 入门.md\n",
      "Converting 2024-01-16-lazyman 手开根号.md\n",
      "adding lines are: []\n",
      "adding quoted lines are: []\n",
      "Converted 2024-01-16-lazyman 手开根号.md\n",
      "Converting 2024-01-28-Minecraft岩浆怪shi莱姆农场.md\n",
      "adding lines are: []\n",
      "adding quoted lines are: []\n",
      "Converted 2024-01-28-Minecraft岩浆怪shi莱姆农场.md\n",
      "Converting 2024-01-30-Academic Network Acceleration.md\n",
      "adding lines are: []\n",
      "adding quoted lines are: []\n",
      "Converted 2024-01-30-Academic Network Acceleration.md\n",
      "Converting 2024-02-15-Coding with android for foolish.md\n",
      "adding lines are: []\n",
      "adding quoted lines are: []\n",
      "Converted 2024-02-15-Coding with android for foolish.md\n",
      "Converting 2024-03-10-The Integral in Feynman Propogator.md\n",
      "adding lines are: []\n",
      "adding quoted lines are: []\n",
      "Converted 2024-03-10-The Integral in Feynman Propogator.md\n",
      "Converting 2024-03-11-Gaussian Integral N-dimensional.md\n",
      "adding lines are: []\n",
      "adding quoted lines are: [52, 55, 66, 69, 87, 94, 105, 108, 119, 126, 155, 160, 171, 179, 190, 198, 209, 217, 228, 233, 244, 247]\n",
      "Converted 2024-03-11-Gaussian Integral N-dimensional.md\n",
      "Converting 2024-03-29-Completeness-By-Dirac-Notion.md\n",
      "adding lines are: []\n",
      "adding quoted lines are: []\n",
      "Converted 2024-03-29-Completeness-By-Dirac-Notion.md\n",
      "Converting 2024-03-30-SU2representation.md\n",
      "adding lines are: []\n",
      "adding quoted lines are: []\n",
      "Converted 2024-03-30-SU2representation.md\n",
      "Converting 2024-04-03-Linear Regression.md\n",
      "adding lines are: []\n",
      "adding quoted lines are: [381, 384, 395, 398, 407, 410, 429, 432, 444, 447, 456, 459, 468, 471, 513, 520, 530, 533, 547, 550, 559, 562]\n",
      "Converted 2024-04-03-Linear Regression.md\n"
     ]
    }
   ],
   "source": [
    "for file in mdfiles:\n",
    "    # convertor_add_epmty_line(file,outputname='trial/'+file)\n",
    "    convertor_add_epmty_line(file,outputname=file)"
   ]
  },
  {
   "cell_type": "markdown",
   "metadata": {},
   "source": [
    "Here is some python code to change `$$` pairs to `\\[` and `\\]` automatically."
   ]
  },
  {
   "cell_type": "code",
   "execution_count": 6,
   "metadata": {},
   "outputs": [],
   "source": [
    "def convertor_replace_mathblock_trigger(filename,outputname=None):\n",
    "    with open(filename,'r') as f:\n",
    "        linelist=f.readlines()\n",
    "    state = 1 # state 为1表示当前$$作为前括号，-1表示作为后括号\n",
    "\n",
    "    for i,v in enumerate(linelist):\n",
    "        if v == '$$\\n':\n",
    "            if state == 1:\n",
    "                linelist[i]='\\[\\n'\n",
    "            elif state == -1:\n",
    "                linelist[i]='\\]\\n'\n",
    "            state*=-1\n",
    "    adding = []\n",
    "    for i,v in enumerate(linelist):\n",
    "        # print(v == '\\[\\n')\n",
    "        if v == '\\[\\n':\n",
    "            if linelist[i-1]!='\\n':\n",
    "                # print(i)\n",
    "                adding.append(i)\n",
    "        if v == '\\]\\n':\n",
    "            if linelist[i+1]!='\\n':\n",
    "                # print(i)\n",
    "                adding.append(i+1)\n",
    "\n",
    "    for i in adding[::-1]:\n",
    "        linelist.insert(i,'\\n')\n",
    "    content_new = ''.join(linelist)\n",
    "\n",
    "    if outputname==None:\n",
    "        purename,extension= os.path.splitext(filename)\n",
    "        with open(purename+'_mathblock'+extension, 'w') as file:\n",
    "            file.write(content_new)\n",
    "    else:\n",
    "        with open(outputname, 'w') as file:\n",
    "            file.write(content_new)\n",
    "    return content_new"
   ]
  }
 ],
 "metadata": {
  "kernelspec": {
   "display_name": "base",
   "language": "python",
   "name": "python3"
  },
  "language_info": {
   "codemirror_mode": {
    "name": "ipython",
    "version": 3
   },
   "file_extension": ".py",
   "mimetype": "text/x-python",
   "name": "python",
   "nbconvert_exporter": "python",
   "pygments_lexer": "ipython3",
   "version": "3.9.18"
  }
 },
 "nbformat": 4,
 "nbformat_minor": 2
}
